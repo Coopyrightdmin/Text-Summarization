{
  "nbformat": 4,
  "nbformat_minor": 0,
  "metadata": {
    "colab": {
      "name": "main.ipynb",
      "version": "0.3.2",
      "provenance": [],
      "include_colab_link": true
    },
    "kernelspec": {
      "name": "python3",
      "display_name": "Python 3"
    }
  },
  "cells": [
    {
      "cell_type": "markdown",
      "metadata": {
        "id": "view-in-github",
        "colab_type": "text"
      },
      "source": [
        "<a href=\"https://colab.research.google.com/github/Coopyrightdmin/Text-Summarization/blob/master/main.ipynb\" target=\"_parent\"><img src=\"https://colab.research.google.com/assets/colab-badge.svg\" alt=\"Open In Colab\"/></a>"
      ]
    },
    {
      "metadata": {
        "id": "dRSyqEgcqWPu",
        "colab_type": "text"
      },
      "cell_type": "markdown",
      "source": [
        "# Text Summarization\n",
        "\n",
        "based on the following article: https://stackabuse.com/text-summarization-with-nltk-in-python/ with many bugs and not very performant."
      ]
    },
    {
      "metadata": {
        "id": "77FSb5nyqaLa",
        "colab_type": "code",
        "colab": {
          "base_uri": "https://localhost:8080/",
          "height": 54
        },
        "outputId": "f0988137-6287-4513-81da-16f944ee98d7"
      },
      "cell_type": "code",
      "source": [
        "import bs4 as bs  \n",
        "import urllib.request  \n",
        "import re\n",
        "import heapq  \n",
        "from nltk import *\n",
        "\n",
        "scraped_data = urllib.request.urlopen('https://fr.wikipedia.org/wiki/Napol%C3%A9on_Ier')  \n",
        "article = scraped_data.read()\n",
        "\n",
        "parsed_article = bs.BeautifulSoup(article,'lxml')\n",
        "\n",
        "paragraphs = parsed_article.find_all('p')\n",
        "\n",
        "article_text = \"\"\n",
        "\n",
        "for p in paragraphs:  \n",
        "    article_text += p.text\n",
        "    \n",
        "# Removing Square Brackets and Extra Spaces\n",
        "article_text = re.sub(r'\\[[0-9]*\\]', ' ', article_text)  \n",
        "article_text = re.sub(r'\\s+', ' ', article_text)  \n",
        "\n",
        "# Removing special characters and digits\n",
        "formatted_article_text = re.sub('[^a-zA-Z]', ' ', article_text )  \n",
        "formatted_article_text = re.sub(r'\\s+', ' ', formatted_article_text)  \n",
        "\n",
        "sentence_list = nltk.sent_tokenize(article_text)  \n",
        "\n",
        "stopwords = nltk.corpus.stopwords.words('english')\n",
        "\n",
        "word_frequencies = {}  \n",
        "for word in nltk.word_tokenize(formatted_article_text):  \n",
        "    if word not in stopwords:\n",
        "        if word not in word_frequencies.keys():\n",
        "            word_frequencies[word] = 1\n",
        "        else:\n",
        "            word_frequencies[word] += 1\n",
        "\n",
        "maximum_frequncy = max(word_frequencies.values())\n",
        "\n",
        "for word in word_frequencies.keys():  \n",
        "    word_frequencies[word] = (word_frequencies[word]/maximum_frequncy)\n",
        "\n",
        "sentence_scores = {}  \n",
        "for sent in sentence_list:  \n",
        "    for word in nltk.word_tokenize(sent.lower()):\n",
        "        if word in word_frequencies.keys():\n",
        "            if len(sent.split(' ')) < 30:\n",
        "                if sent not in sentence_scores.keys():\n",
        "                    sentence_scores[sent] = word_frequencies[word]\n",
        "                else:\n",
        "                    sentence_scores[sent] += word_frequencies[word]\n",
        "\n",
        "summary_sentences = heapq.nlargest(7, sentence_scores, key=sentence_scores.get)\n",
        "\n",
        "summary = ' '.join(summary_sentences)  \n",
        "print(summary)  "
      ],
      "execution_count": 9,
      "outputs": [
        {
          "output_type": "stream",
          "text": [
            "L'ombre de « Napoléon le Grand » plane sur de nombreux ouvrages de Balzac, Stendhal, Musset, mais aussi de Dostoïevski, de Tolstoï et de bien d'autres encore. L’agonie de l’Empereur se poursuit, Caulaincourt sort de la pièce pour demander au valet de chambre et au service intérieur de garder le silence. La faveur publique lui permet de rédiger la Constitution de l’an VIII, qui lui donne la réalité des pouvoirs et surtout ne fait pas mention de la souveraineté nationale. Tout en organisant l’Italie en républiques sœurs sur le modèle de la République française, il marche sur l’Autriche et signe seul les préliminaires de paix de Leoben. En conservant et en inscrivant dans le Code tous ces acquis de la Révolution, Bonaparte leur permit de traverser les régimes et rassura une grande partie de la population. Le 5 mars, inquiet de la popularité de Bonaparte, le Directoire le charge de mener l'expédition en Égypte, avec l'arrière-pensée de s'en débarrasser. Les libertés d’expression, de réunion, de circulation et de presse sont supprimées au profit d’un État autoritaire et d’une surveillance accrue de la population, orchestrée par Fouché.\n"
          ],
          "name": "stdout"
        }
      ]
    },
    {
      "metadata": {
        "id": "eaJn69UxvFjF",
        "colab_type": "text"
      },
      "cell_type": "markdown",
      "source": [
        "# TextRank Algorithm\n",
        "refering to the following article: https://www.analyticsvidhya.com/blog/2018/11/introduction-text-summarization-textrank-python/\n",
        "You can download the dataset we’ll be using from [link text](https://s3-ap-south-1.amazonaws.com/av-blog-media/wp-content/uploads/2018/10/tennis_articles_v4.csv)\n",
        "\n"
      ]
    },
    {
      "metadata": {
        "id": "pReRJ8TMvXNZ",
        "colab_type": "code",
        "colab": {
          "base_uri": "https://localhost:8080/",
          "height": 224
        },
        "outputId": "058af126-9905-425e-bb98-4acae4972c33"
      },
      "cell_type": "code",
      "source": [
        "import numpy as np\n",
        "import pandas as pd\n",
        "import nltk\n",
        "import re\n",
        "from nltk.tokenize import sent_tokenize\n",
        "from nltk.corpus import stopwords\n",
        "stop_words = stopwords.words('english')\n",
        "from sklearn.metrics.pairwise import cosine_similarity\n",
        "import networkx as nx\n",
        "import bs4 as bs  \n",
        "import urllib.request  \n",
        "\n",
        "df = ['https://fr.wikipedia.org/wiki/Napol%C3%A9on_Ier']\n",
        "\n",
        "# Extract word vectors\n",
        "word_embeddings = {}\n",
        "f = open('glove.6B.100d.txt', encoding='utf-8')\n",
        "for line in f:\n",
        "    values = line.split()\n",
        "    word = values[0]\n",
        "    coefs = np.asarray(values[1:], dtype='float32')\n",
        "    word_embeddings[word] = coefs\n",
        "f.close()\n",
        "\n",
        "# function to remove stopwords\n",
        "def remove_stopwords(sen):\n",
        "    sen_new = \" \".join([i for i in sen if i not in stop_words])\n",
        "    return sen_new\n",
        "  \n",
        "sentences = []\n",
        "for s in df:\n",
        "  print(s)\n",
        "  scraped_data = urllib.request.urlopen(s)  \n",
        "  article = scraped_data.read()\n",
        "  parsed_article = bs.BeautifulSoup(article,'lxml')\n",
        "  paragraphs = parsed_article.find_all('p')\n",
        "  article_text = \"\"\n",
        "  for p in paragraphs:  \n",
        "    article_text += p.text\n",
        "    \n",
        "  # Removing Square Brackets and Extra Spaces\n",
        "  article_text = re.sub(r'\\[[0-9]*\\]', ' ', article_text)  \n",
        "  article_text = re.sub(r'\\s+', ' ', article_text)  \n",
        "  sentences.append(sent_tokenize(article_text))\n",
        "\n",
        "sentences = [y for x in sentences for y in x] # flatten list\n",
        "\n",
        "# remove punctuations, numbers and special characters\n",
        "clean_sentences = pd.Series(sentences).str.replace(\"[^a-zA-Z]\", \" \")\n",
        "\n",
        "# make alphabets lowercase\n",
        "clean_sentences = [s.lower() for s in clean_sentences]\n",
        "\n",
        "# remove stopwords from the sentences\n",
        "clean_sentences = [remove_stopwords(r.split()) for r in clean_sentences]\n",
        "\n",
        "sentence_vectors = []\n",
        "for i in clean_sentences:\n",
        "  if len(i) != 0:\n",
        "    v = sum([word_embeddings.get(w, np.zeros((100,))) for w in i.split()])/(len(i.split())+0.001)\n",
        "  else:\n",
        "    v = np.zeros((100,))\n",
        "  sentence_vectors.append(v)\n",
        "  \n",
        "# similarity matrix\n",
        "sim_mat = np.zeros([len(sentences), len(sentences)])\n",
        "\n",
        "for i in range(len(sentences)):\n",
        "  for j in range(len(sentences)):\n",
        "    if i != j:\n",
        "      sim_mat[i][j] = cosine_similarity(sentence_vectors[i].reshape(1,100), sentence_vectors[j].reshape(1,100))[0,0]\n",
        "      \n",
        "nx_graph = nx.from_numpy_array(sim_mat)\n",
        "scores = nx.pagerank(nx_graph)\n",
        "\n",
        "ranked_sentences = sorted(((scores[i],s) for i,s in enumerate(sentences)), reverse=True)\n",
        "\n",
        "# Extract top 10 sentences as the summary\n",
        "for i in range(10):\n",
        "  print(ranked_sentences[i][1])"
      ],
      "execution_count": 8,
      "outputs": [
        {
          "output_type": "stream",
          "text": [
            "https://fr.wikipedia.org/wiki/Napol%C3%A9on_Ier\n",
            "Lacrosse et son successeur Ernouf réintroduisent progressivement l'esclavage sous la forme d'un travail forcé, puis de l'esclavage lui-même par le biais d'un arrêté de police rural du 22 avril 1803 qui fait référence à certains articles du Code noir, et enfin avec l'adoption du décret du Premier consul, daté du 16 juillet 1802, qui énonce que « La Colonie de la Guadeloupe et Dépendances sera régie, à l’instar de La Martinique, de Ste-Lucie, de Tabago, et des Colonies orientales, par les mêmes loix qui y étoient en vigueur en 1789 ».\n",
            "Le général noir est gouverneur général de la colonie au nom de la France depuis 1797 et il est suspecté de connivences avec les États-Unis avec lesquels, au mépris du principe de l'Exclusif, il commerce ouvertement depuis que la prospérité est revenue.\n",
            "La mort de Napoléon résulterait donc de la combinaison d'une hépatite chronique ancienne, d'un ulcère de l'estomac lié au stress évoluant jusqu'à la perforation, d'une dégénérescence de cet ulcère en carcinome et, cause immédiate, l'aggravation du tout par une médication aberrante (antimoine et mercure, le coup de grâce ayant été porté par le médecin anglais Arnott qui inflige au malade une dose extravagante de 10 grains de calomel alors que la dose normale est de un ou deux grains, ce qui provoque une sévère hémorragie stomacale qui sera fatale .\n",
            "Le gouvernement français est secoué par des problèmes internes, les impôts n’arrivent pas dans les caisses de l’État, le brigandage s’est développé, les routes sont défoncées, les régions récemment conquises et les États satellites de la République française sont menacés du fait de l'offensive générale des armées de la Deuxième Coalition en Suisse, Italie, Allemagne du Sud et Hollande, le commerce est au plus mal, l’industrie (notamment celle de la soie à Lyon) ruinée, le chômage fait une percée, le prix du pain est trop élevé pour les ouvriers, les hôpitaux ne marchent pas… C’est le moment que Bonaparte, qui est à l’époque encore un général révolutionnaire, choisit pour abandonner son armée en Égypte et monter à Paris, fomenter un coup d’État, le 10 novembre 1799.\n",
            "Il tente également de renforcer le régime colonial français d'Ancien Régime en outre-mer, en particulier avec le rétablissement de l'esclavage en 1802, ce qui provoque la guerre de Saint-Domingue (1802-1803) et la perte définitive de cette colonie, tandis que les Britanniques s'assurent le contrôle de toutes les autres colonies entre 1803 et 1810.\n",
            "Lucien retarde le vote et va chercher Murat, qui vient avec la troupe et met de l’ordre dans les assemblées, disant que certains députés voulaient poignarder Bonaparte pour justifier une intervention de l’armée.\n",
            "Aussi une rumeur affirme que Bonaparte a pu être initié à la franc-maçonnerie lors de la campagne d'Égypte dans la loge « Isis », comme le suggère notamment le manuscrit Le miroir de la Vérité dédié à tous les maçons , le fait qu'il soit louveteau (c'est-à-dire fils du franc-maçon Charles Bonaparte) et qu'il ne conteste pas de se faire par la suite appeler « frère » par différents membres des 1 200 loges maçonniques qui se développent pendant le Premier Empire , néanmoins les critiques envers les francs-maçons qu'il tient lors de son exil à Sainte-Hélène semblent prouver le contraire .\n",
            "Le prisonnier de Sainte-Hélène tentera de s'exonérer de ce monstrueux gâchis en prétendant, anachroniquement et fallacieusement , avoir été contraint à l'usage de la force par les actes séditieux de celui qui s'adressait à lui comme « le premier des Noirs au premier des Blancs ».\n",
            "En outre, une observatrice avisée de la mise en place du Consulat et de l’Empire, la Comtesse de Rémusat, explique comment des « hommes fatigués des troubles révolutionnaires » aient vu en Bonaparte celui qui les « sauverait des dangers d’une anarchie tumultueuse » et leur apporterait « le repos sous la domination d’un maître habile, que d’ailleurs la fortune semblait déterminée à seconder » .\n",
            "Le pouvoir législatif est divisé en trois assemblées (tricamérisme) : La préparation de la loi appartient à l'exécutif, par le biais du Conseil d’État, chargé de rédiger les textes législatifs.\n"
          ],
          "name": "stdout"
        }
      ]
    }
  ]
}