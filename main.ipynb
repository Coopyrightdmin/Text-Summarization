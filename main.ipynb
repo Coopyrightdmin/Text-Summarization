{
  "nbformat": 4,
  "nbformat_minor": 0,
  "metadata": {
    "colab": {
      "name": "main.ipynb",
      "version": "0.3.2",
      "provenance": [],
      "collapsed_sections": [
        "eaJn69UxvFjF"
      ],
      "toc_visible": true,
      "include_colab_link": true
    },
    "kernelspec": {
      "name": "python3",
      "display_name": "Python 3"
    }
  },
  "cells": [
    {
      "cell_type": "markdown",
      "metadata": {
        "id": "view-in-github",
        "colab_type": "text"
      },
      "source": [
        "<a href=\"https://colab.research.google.com/github/Coopyrightdmin/Text-Summarization/blob/master/main.ipynb\" target=\"_parent\"><img src=\"https://colab.research.google.com/assets/colab-badge.svg\" alt=\"Open In Colab\"/></a>"
      ]
    },
    {
      "metadata": {
        "id": "dRSyqEgcqWPu",
        "colab_type": "text"
      },
      "cell_type": "markdown",
      "source": [
        "# Text Summarization\n",
        "\n",
        "based on the following article: https://stackabuse.com/text-summarization-with-nltk-in-python/ with many bugs and not very performant."
      ]
    },
    {
      "metadata": {
        "id": "77FSb5nyqaLa",
        "colab_type": "code",
        "outputId": "e5ca57ef-29c2-4cf1-e2eb-43e6dfe2e98c",
        "colab": {
          "base_uri": "https://localhost:8080/",
          "height": 360
        }
      },
      "cell_type": "code",
      "source": [
        "import bs4 as bs  \n",
        "import urllib.request  \n",
        "import re\n",
        "import heapq  \n",
        "\n",
        "import nltk\n",
        "from nltk.tokenize import sent_tokenize\n",
        "from nltk.corpus import stopwords\n",
        "nltk.download('punkt')\n",
        "nltk.download('stopwords')\n",
        "\n",
        "# Dataset\n",
        "uri='https://fr.wikipedia.org/wiki/Napol%C3%A9on_Ier'\n",
        "\n",
        "# Retrieving text from Html paragraphs\n",
        "scraped_data = urllib.request.urlopen(uri)  \n",
        "article = scraped_data.read()\n",
        "parsed_article = bs.BeautifulSoup(article,'lxml')\n",
        "paragraphs = parsed_article.find_all('p')\n",
        "\n",
        "def summarize(article_text, val):\n",
        "  summary_sentences = []\n",
        "    \n",
        "  # Removing Square Brackets and Extra Spaces\n",
        "  article_text = re.sub(r'\\[[0-9]*\\]', ' ', article_text)  \n",
        "  article_text = re.sub(r'\\s+', ' ', article_text)  \n",
        "\n",
        "  # Removing special characters and digits\n",
        "  formatted_article_text = re.sub('[^a-zA-Z]', ' ', article_text )  \n",
        "  formatted_article_text = re.sub(r'\\s+', ' ', formatted_article_text)  \n",
        "\n",
        "  if not len(formatted_article_text) <= 1: \n",
        "\n",
        "    # Tokenizing content\n",
        "    sentence_list = nltk.sent_tokenize(article_text)  \n",
        "    stopwords = nltk.corpus.stopwords.words('french')\n",
        "\n",
        "    word_frequencies = {}  \n",
        "    for word in nltk.word_tokenize(formatted_article_text):  \n",
        "        if word not in stopwords:\n",
        "            if word not in word_frequencies.keys():\n",
        "                word_frequencies[word] = 1\n",
        "            else:\n",
        "                word_frequencies[word] += 1\n",
        "\n",
        "    maximum_frequncy = max(word_frequencies.values())\n",
        "\n",
        "    for word in word_frequencies.keys():  \n",
        "        word_frequencies[word] = (word_frequencies[word]/maximum_frequncy)\n",
        "\n",
        "    sentence_scores = {}  \n",
        "    for sent in sentence_list:  \n",
        "        for word in nltk.word_tokenize(sent.lower()):\n",
        "            if word in word_frequencies.keys():\n",
        "                if len(sent.split(' ')) < 30:\n",
        "                    if sent not in sentence_scores.keys():\n",
        "                        sentence_scores[sent] = word_frequencies[word]\n",
        "                    else:\n",
        "                        sentence_scores[sent] += word_frequencies[word]\n",
        "\n",
        "    summary_sentences = heapq.nlargest(val, sentence_scores, key=sentence_scores.get)\n",
        "  return summary_sentences\n",
        "\n",
        "# 1st Loop to summarize paragraphs\n",
        "tmp = []\n",
        "for p in paragraphs:  \n",
        "  s = summarize(p.text, 1)\n",
        "  tmp = tmp + s\n",
        "\n",
        "# 2nd Loop to select sentences\n",
        "summary = \"\"\n",
        "print('\\n'.join(summarize('\\n'.join(tmp), 15)))"
      ],
      "execution_count": 47,
      "outputs": [
        {
          "output_type": "stream",
          "text": [
            "[nltk_data] Downloading package punkt to /root/nltk_data...\n",
            "[nltk_data]   Package punkt is already up-to-date!\n",
            "[nltk_data] Downloading package stopwords to /root/nltk_data...\n",
            "[nltk_data]   Package stopwords is already up-to-date!\n",
            "Poussés par les Britanniques et les Turcs, les mamelouks survivants influencent la population du Caire qui se révolte le 21 octobre contre les Français.\n",
            "Il pousse aussi au développement des usines de coton, installées dans les biens nationaux, alors que les guerres ont suscité un besoin de textiles pour habiller les armées.\n",
            "Bien que les Russes abandonnent le terrain, les pertes sont presque équivalentes dans les deux camps.\n",
            "Napoléon retourne à plusieurs reprises en Corse, où les luttes de clans avaient repris, les paolistes soutenant la monarchie à l’anglaise, et les Bonaparte la Révolution.\n",
            "Napoléon veut montrer qu’il est le fondateur de la « quatrième dynastie », celle des Bonaparte, après les Mérovingiens, les Carolingiens, et les Capétiens.\n",
            "Pourtant formé dans les écoles et par les maîtres de l’Ancien Régime, officier de l’armée royale, Napoléon brise les anciennes conceptions militaires.\n",
            "Dans ce milieu rural, les ressources matérielles de la famille sont essentiellement fondées sur les récoltes et les échanges.\n",
            "La canonnade de Saint-Roch — où les boulets ont été remplacés par de la mitraille plus « efficace » — disperse les forces royalistes, faisant trois cents morts .\n",
            "Les révisionnistes avaient envisagé une démission collective des cinq directeurs, mais les assemblées ont du retard car cette idée ne fait pas l’unanimité ; Bonaparte s’impatiente et décide d’intervenir.\n",
            "Dans tous les pays conquis, Napoléon Ier impose le Code civil et par conséquent toutes les notions révolutionnaires qui en font partie.\n",
            "En supprimant les cultes et autres acquis révolutionnaires qui mettaient en danger l’œuvre de la révolution elle-même, il permit aux autres de traverser les époques.\n",
            "En février 1799, Bonaparte se déplace en Syrie pour affronter les troupes ottomanes que le sultan a envoyées pour attaquer les Français en Égypte.\n",
            "Répondez que je viens vous restituer vos droits, punir les usurpateurs et que je respecte plus que les Mamelucks, Dieu son Prophète et l’Alcoran ».\n",
            "Sur le plan international, Napoléon affirme ses volontés pacifiques, mais les alliés n’acceptent pas ce retour et reprennent les armes contre la France.\n",
            "Cet organe est au départ chargé de rédiger les lois pour décharger les ministères et doit conseiller le gouvernement sur la législation à entreprendre.\n"
          ],
          "name": "stdout"
        }
      ]
    },
    {
      "metadata": {
        "id": "eaJn69UxvFjF",
        "colab_type": "text"
      },
      "cell_type": "markdown",
      "source": [
        "# TextRank Algorithm\n",
        "refering to the following article: https://www.analyticsvidhya.com/blog/2018/11/introduction-text-summarization-textrank-python/\n",
        "You can download the dataset we’ll be using from [link text](https://s3-ap-south-1.amazonaws.com/av-blog-media/wp-content/uploads/2018/10/tennis_articles_v4.csv)\n",
        "\n"
      ]
    },
    {
      "metadata": {
        "id": "pReRJ8TMvXNZ",
        "colab_type": "code",
        "outputId": "058af126-9905-425e-bb98-4acae4972c33",
        "colab": {
          "base_uri": "https://localhost:8080/",
          "height": 224
        }
      },
      "cell_type": "code",
      "source": [
        "import numpy as np\n",
        "import pandas as pd\n",
        "import nltk\n",
        "import re\n",
        "from nltk.tokenize import sent_tokenize\n",
        "from nltk.corpus import stopwords\n",
        "stop_words = stopwords.words('english')\n",
        "from sklearn.metrics.pairwise import cosine_similarity\n",
        "import networkx as nx\n",
        "import bs4 as bs  \n",
        "import urllib.request  \n",
        "\n",
        "df = ['https://fr.wikipedia.org/wiki/Napol%C3%A9on_Ier']\n",
        "\n",
        "# Extract word vectors\n",
        "word_embeddings = {}\n",
        "f = open('glove.6B.100d.txt', encoding='utf-8')\n",
        "for line in f:\n",
        "    values = line.split()\n",
        "    word = values[0]\n",
        "    coefs = np.asarray(values[1:], dtype='float32')\n",
        "    word_embeddings[word] = coefs\n",
        "f.close()\n",
        "\n",
        "# function to remove stopwords\n",
        "def remove_stopwords(sen):\n",
        "    sen_new = \" \".join([i for i in sen if i not in stop_words])\n",
        "    return sen_new\n",
        "  \n",
        "sentences = []\n",
        "for s in df:\n",
        "  print(s)\n",
        "  scraped_data = urllib.request.urlopen(s)  \n",
        "  article = scraped_data.read()\n",
        "  parsed_article = bs.BeautifulSoup(article,'lxml')\n",
        "  paragraphs = parsed_article.find_all('p')\n",
        "  article_text = \"\"\n",
        "  for p in paragraphs:  \n",
        "    article_text += p.text\n",
        "    \n",
        "  # Removing Square Brackets and Extra Spaces\n",
        "  article_text = re.sub(r'\\[[0-9]*\\]', ' ', article_text)  \n",
        "  article_text = re.sub(r'\\s+', ' ', article_text)  \n",
        "  sentences.append(sent_tokenize(article_text))\n",
        "\n",
        "sentences = [y for x in sentences for y in x] # flatten list\n",
        "\n",
        "# remove punctuations, numbers and special characters\n",
        "clean_sentences = pd.Series(sentences).str.replace(\"[^a-zA-Z]\", \" \")\n",
        "\n",
        "# make alphabets lowercase\n",
        "clean_sentences = [s.lower() for s in clean_sentences]\n",
        "\n",
        "# remove stopwords from the sentences\n",
        "clean_sentences = [remove_stopwords(r.split()) for r in clean_sentences]\n",
        "\n",
        "sentence_vectors = []\n",
        "for i in clean_sentences:\n",
        "  if len(i) != 0:\n",
        "    v = sum([word_embeddings.get(w, np.zeros((100,))) for w in i.split()])/(len(i.split())+0.001)\n",
        "  else:\n",
        "    v = np.zeros((100,))\n",
        "  sentence_vectors.append(v)\n",
        "  \n",
        "# similarity matrix\n",
        "sim_mat = np.zeros([len(sentences), len(sentences)])\n",
        "\n",
        "for i in range(len(sentences)):\n",
        "  for j in range(len(sentences)):\n",
        "    if i != j:\n",
        "      sim_mat[i][j] = cosine_similarity(sentence_vectors[i].reshape(1,100), sentence_vectors[j].reshape(1,100))[0,0]\n",
        "      \n",
        "nx_graph = nx.from_numpy_array(sim_mat)\n",
        "scores = nx.pagerank(nx_graph)\n",
        "\n",
        "ranked_sentences = sorted(((scores[i],s) for i,s in enumerate(sentences)), reverse=True)\n",
        "\n",
        "# Extract top 10 sentences as the summary\n",
        "for i in range(10):\n",
        "  print(ranked_sentences[i][1])"
      ],
      "execution_count": 0,
      "outputs": [
        {
          "output_type": "stream",
          "text": [
            "https://fr.wikipedia.org/wiki/Napol%C3%A9on_Ier\n",
            "Lacrosse et son successeur Ernouf réintroduisent progressivement l'esclavage sous la forme d'un travail forcé, puis de l'esclavage lui-même par le biais d'un arrêté de police rural du 22 avril 1803 qui fait référence à certains articles du Code noir, et enfin avec l'adoption du décret du Premier consul, daté du 16 juillet 1802, qui énonce que « La Colonie de la Guadeloupe et Dépendances sera régie, à l’instar de La Martinique, de Ste-Lucie, de Tabago, et des Colonies orientales, par les mêmes loix qui y étoient en vigueur en 1789 ».\n",
            "Le général noir est gouverneur général de la colonie au nom de la France depuis 1797 et il est suspecté de connivences avec les États-Unis avec lesquels, au mépris du principe de l'Exclusif, il commerce ouvertement depuis que la prospérité est revenue.\n",
            "La mort de Napoléon résulterait donc de la combinaison d'une hépatite chronique ancienne, d'un ulcère de l'estomac lié au stress évoluant jusqu'à la perforation, d'une dégénérescence de cet ulcère en carcinome et, cause immédiate, l'aggravation du tout par une médication aberrante (antimoine et mercure, le coup de grâce ayant été porté par le médecin anglais Arnott qui inflige au malade une dose extravagante de 10 grains de calomel alors que la dose normale est de un ou deux grains, ce qui provoque une sévère hémorragie stomacale qui sera fatale .\n",
            "Le gouvernement français est secoué par des problèmes internes, les impôts n’arrivent pas dans les caisses de l’État, le brigandage s’est développé, les routes sont défoncées, les régions récemment conquises et les États satellites de la République française sont menacés du fait de l'offensive générale des armées de la Deuxième Coalition en Suisse, Italie, Allemagne du Sud et Hollande, le commerce est au plus mal, l’industrie (notamment celle de la soie à Lyon) ruinée, le chômage fait une percée, le prix du pain est trop élevé pour les ouvriers, les hôpitaux ne marchent pas… C’est le moment que Bonaparte, qui est à l’époque encore un général révolutionnaire, choisit pour abandonner son armée en Égypte et monter à Paris, fomenter un coup d’État, le 10 novembre 1799.\n",
            "Il tente également de renforcer le régime colonial français d'Ancien Régime en outre-mer, en particulier avec le rétablissement de l'esclavage en 1802, ce qui provoque la guerre de Saint-Domingue (1802-1803) et la perte définitive de cette colonie, tandis que les Britanniques s'assurent le contrôle de toutes les autres colonies entre 1803 et 1810.\n",
            "Lucien retarde le vote et va chercher Murat, qui vient avec la troupe et met de l’ordre dans les assemblées, disant que certains députés voulaient poignarder Bonaparte pour justifier une intervention de l’armée.\n",
            "Aussi une rumeur affirme que Bonaparte a pu être initié à la franc-maçonnerie lors de la campagne d'Égypte dans la loge « Isis », comme le suggère notamment le manuscrit Le miroir de la Vérité dédié à tous les maçons , le fait qu'il soit louveteau (c'est-à-dire fils du franc-maçon Charles Bonaparte) et qu'il ne conteste pas de se faire par la suite appeler « frère » par différents membres des 1 200 loges maçonniques qui se développent pendant le Premier Empire , néanmoins les critiques envers les francs-maçons qu'il tient lors de son exil à Sainte-Hélène semblent prouver le contraire .\n",
            "Le prisonnier de Sainte-Hélène tentera de s'exonérer de ce monstrueux gâchis en prétendant, anachroniquement et fallacieusement , avoir été contraint à l'usage de la force par les actes séditieux de celui qui s'adressait à lui comme « le premier des Noirs au premier des Blancs ».\n",
            "En outre, une observatrice avisée de la mise en place du Consulat et de l’Empire, la Comtesse de Rémusat, explique comment des « hommes fatigués des troubles révolutionnaires » aient vu en Bonaparte celui qui les « sauverait des dangers d’une anarchie tumultueuse » et leur apporterait « le repos sous la domination d’un maître habile, que d’ailleurs la fortune semblait déterminée à seconder » .\n",
            "Le pouvoir législatif est divisé en trois assemblées (tricamérisme) : La préparation de la loi appartient à l'exécutif, par le biais du Conseil d’État, chargé de rédiger les textes législatifs.\n"
          ],
          "name": "stdout"
        }
      ]
    },
    {
      "metadata": {
        "id": "xjd9Hw0q99d2",
        "colab_type": "text"
      },
      "cell_type": "markdown",
      "source": [
        "# Lsa Summarizer"
      ]
    },
    {
      "metadata": {
        "id": "ju1PC4Bi-AtI",
        "colab_type": "code",
        "colab": {
          "base_uri": "https://localhost:8080/",
          "height": 292
        },
        "outputId": "3059e391-fd44-4743-dfc3-955e57b38c89"
      },
      "cell_type": "code",
      "source": [
        "# -*- coding: utf-8 -*-\n",
        "\n",
        "from __future__ import absolute_import\n",
        "from __future__ import division, print_function, unicode_literals\n",
        "\n",
        "from sumy.parsers.html import HtmlParser\n",
        "from sumy.parsers.plaintext import PlaintextParser\n",
        "from sumy.nlp.tokenizers import Tokenizer\n",
        "from sumy.summarizers.lsa import LsaSummarizer as Summarizer\n",
        "from sumy.nlp.stemmers import Stemmer\n",
        "from sumy.utils import get_stop_words\n",
        "import re\n",
        "\n",
        "LANGUAGE = \"french\"\n",
        "SENTENCES_COUNT = 15\n",
        "\n",
        "\n",
        "if __name__ == \"__main__\":\n",
        "    url = \"https://fr.wikipedia.org/wiki/Napol%C3%A9on_Ier\"\n",
        "    parser = HtmlParser.from_url(url, Tokenizer(LANGUAGE))\n",
        "    stemmer = Stemmer(LANGUAGE)\n",
        "\n",
        "    summarizer = Summarizer(stemmer)\n",
        "    summarizer.stop_words = get_stop_words(LANGUAGE)\n",
        "\n",
        "    for sentence in summarizer(parser.document, SENTENCES_COUNT):\n",
        "        print(sentence)"
      ],
      "execution_count": 45,
      "outputs": [
        {
          "output_type": "stream",
          "text": [
            "Le 28 août 1793, alors que Marseille vient d'être reprise par les Républicains jacobins et que la famille Bonaparte s'y installe, Toulon , tenue par les fédéralistes et les royalistes, se livre aux troupes britanniques et espagnoles.\n",
            "Le calme revient et Bonaparte rétablit la situation en décrétant finalement une amnistie générale, non sans avoir fait couper bon nombre de têtes, exhibées à la foule terrorisée, et canonner la grande mosquée Al-Azhar .\n",
            "Les révisionnistes avaient envisagé une démission collective des cinq directeurs , mais les assemblées ont du retard car cette idée ne fait pas l’unanimité ; Bonaparte s’impatiente et décide d’intervenir.\n",
            "Mais Bonaparte reste attaché aux formes juridiques et, dans la soirée du 19 brumaire, les députés restent à Saint-Cloud pour voter la décision de nommer deux commissions pour préparer une nouvelle constitution.\n",
            "Napoléon, qui se veut rassembleur, décide d’associer aux symboles de son règne les images qui ont pu représenter auparavant la France , ainsi que les pouvoirs forts européens.\n",
            "Devant le silence portugais, les armées françaises envahissent le Portugal (novembre 1807), commandées par le général Junot et s'installent également en Espagne, en allié, pour assurer un appui à cette opération selon le traité de Fontainebleau .\n",
            "Napoléon a reconnu par la suite qu'il avait commis une grave erreur en lançant la campagne d'Espagne : « Cette malheureuse guerre m'a perdu ; toutes les circonstances de mes désastres se rattachent à ce nœud fatal.\n",
            "On ne lui donne pas l'occasion de poser le pied en Angleterre , les ministres britanniques voulant absolument éviter que Napoléon puisse demander le droit d'asile en invoquant l’ Habeas corpus .\n",
            "Napoléon meurt un samedi , le 5 mai 1821, « à 17 heures et 49 minutes », rendant ainsi « le plus puissant souffle de vie qui eut jamais agité l'argile humaine » (Chateaubriand).\n",
            "C’est au cours de l’ an X que s’est opérée la transformation du régime encore républicain en un despotisme auquel ne manquait qu’une couronne.\n",
            "Par la loi du 19 mai 1802 , Napoléon Bonaparte instaure également la Légion d'honneur [ 81 ] , décernée aux personnes militaires et civiles que l’État souhaite récompenser par cette distinction, au titre de services rendus.\n",
            "Il le considérait avec fierté comme son œuvre majeure : « Ma gloire n'est pas d'avoir gagné quarante batailles… Ce que rien n'effacera, ce qui vivra éternellement, c'est mon Code civil, ce sont les procès verbaux du Conseil d’État.\n",
            "Le Code civil français est toutefois très largement inspiré d’un éventail de lois et coutumes diverses déjà existantes sous l’ Ancien Régime qu’il unifia.\n",
            "Durant sa jeunesse, Bonaparte se montre admiratif envers certains hommes d’État, notamment Pasquale Paoli , indépendantiste corse, et Mirabeau , révolutionnaire modéré.\n",
            "« Le temps qui court », Paris, 1959, 184 p. Ben Weider , Napoléon : Liberté – Égalité – Fraternité , Éditions Trois-Pistoles, 1997, 351 p. René h. Willems , Odyssée d’un Carabinier à Cheval 1806-1815 , 1969, Éd.\n"
          ],
          "name": "stdout"
        }
      ]
    },
    {
      "metadata": {
        "id": "lWLxS7xHAdqi",
        "colab_type": "text"
      },
      "cell_type": "markdown",
      "source": [
        "# Lex Rank"
      ]
    },
    {
      "metadata": {
        "id": "z36ekHoFAkRG",
        "colab_type": "code",
        "colab": {
          "base_uri": "https://localhost:8080/",
          "height": 292
        },
        "outputId": "407394e4-196c-44f7-fdbe-bcb0f24f1078"
      },
      "cell_type": "code",
      "source": [
        "# -*- coding: utf-8 -*-\n",
        "\n",
        "from __future__ import absolute_import\n",
        "from __future__ import division, print_function, unicode_literals\n",
        "\n",
        "from sumy.parsers.html import HtmlParser\n",
        "from sumy.parsers.plaintext import PlaintextParser\n",
        "from sumy.nlp.tokenizers import Tokenizer\n",
        "from sumy.summarizers.lex_rank import LexRankSummarizer as Summarizer\n",
        "from sumy.nlp.stemmers import Stemmer\n",
        "from sumy.utils import get_stop_words\n",
        "\n",
        "\n",
        "LANGUAGE = \"french\"\n",
        "SENTENCES_COUNT = 15\n",
        "\n",
        "\n",
        "if __name__ == \"__main__\":\n",
        "    url = \"https://fr.wikipedia.org/wiki/Napol%C3%A9on_Ier\"\n",
        "    parser = HtmlParser.from_url(url, Tokenizer(LANGUAGE))\n",
        "  \n",
        "    stemmer = Stemmer(LANGUAGE)\n",
        "\n",
        "    summarizer = Summarizer(stemmer)\n",
        "    summarizer.stop_words = get_stop_words(LANGUAGE)\n",
        "\n",
        "    for sentence in summarizer(parser.document, SENTENCES_COUNT):\n",
        "        print(sentence)"
      ],
      "execution_count": 58,
      "outputs": [
        {
          "output_type": "stream",
          "text": [
            "Second enfant de Charles Bonaparte et Letizia Ramolino , Napoléon Bonaparte est un militaire, général dans les armées de la Première République française, née de la Révolution , commandant en chef de l'armée d'Italie puis de l'armée d'Orient.\n",
            "De plus, il ne reste que 14 officiers sur 80 dans son régiment, le 4 e d'artillerie.\n",
            "L'arsenal, la flotte française est livrée aux Anglais.\n",
            "Celui-ci ne l'écoute pas et ne suit pas ses conseils [23] .\n",
            "Il est à l'origine de la .\n",
            "Il ne s’agit plus pour lui de livrer une guerre de siège à l’aide de 30 000 à 50 000 hommes, mais de rechercher la bataille décisive, engageant plus de 100 000 hommes s’il le faut.\n",
            "Il déclare à Caulaincourt : « Qu’on a de peine à mourir, qu’on est malheureux d’avoir une constitution qui repousse la fin d’une vie qu’il me tarde tant de voir finir !\n",
            "une première fois le 9 mars 1796 avec Joséphine de Beauharnais , qui est ensuite couronnée impératrice ; ce mariage restant sans enfants, il se conclut par un divorce, prononcé par un sénatus-consulte le 16 décembre 1809 ; une seconde fois, le 2 avril 1810 [ m ] avec l’archiduchesse Marie-Louise d’Autriche , qui lui donne un fils onze mois plus tard : Napoléon François Joseph Charles Bonaparte ( 20 mars 1811 - 22 juillet 1832 ), roi de Rome, duc de Reichstadt, connu également sous le nom de Napoléon II , bien qu’il n’ait jamais régné qu’en théorie et ce pendant quinze jours, entre la deuxième abdication de Napoléon et la Seconde Restauration [ n ] .\n",
            "Napoléon Louis Charles Bonaparte (1802-1807), fils aîné de Louis Bonaparte .\n",
            "Musée National » , sur www.musee-maisonbonaparte.fr (consulté le 4 juillet 2016 ) .\n",
            "↑ a b c et d Jacques Macé, « L’empoisonnement de Napoléon », dans Dictionnaire Napoléon / dirigé par Jean Tulard , volume 1, p. 720-724 , Éditions Fayard, Paris, 1999, mis en ligne sur le site www.napoleon.org, consulté le 23 juin 2017 [1] .\n",
            "Napoléon Bonaparte, Fondation Napoléon, Un Grand Empire (Mars 1810-Mars 1811) , Paris, Fayard, 2014 , 1 590 p. ( ISBN 978-2-213-68208-2 ) .\n",
            "Napoléon Bonaparte, Fondation Napoléon, La campagne de Russie (1812) , Paris, Fayard, 2012 , 1 530 p. ( ISBN 978-2-213-66862-8 ) .\n",
            "», Paris, 2003 ( ISBN 2-13-053766-9 ) .\n",
            "« Napoleon & Empire » , sur www.napoleon-empire.net (consulté le 4 juillet 2016 ) .\n"
          ],
          "name": "stdout"
        }
      ]
    },
    {
      "metadata": {
        "id": "dWJ5nNFyRp9h",
        "colab_type": "text"
      },
      "cell_type": "markdown",
      "source": [
        "# Reduction"
      ]
    },
    {
      "metadata": {
        "id": "JVxuQ-D2RwZy",
        "colab_type": "code",
        "colab": {
          "base_uri": "https://localhost:8080/",
          "height": 377
        },
        "outputId": "b54ccce2-77e5-4359-fa9a-78ae220e7ca9"
      },
      "cell_type": "code",
      "source": [
        "# -*- coding: utf-8 -*-\n",
        "\n",
        "from __future__ import absolute_import\n",
        "from __future__ import division, print_function, unicode_literals\n",
        "\n",
        "from sumy.parsers.html import HtmlParser\n",
        "from sumy.parsers.plaintext import PlaintextParser\n",
        "from sumy.nlp.tokenizers import Tokenizer\n",
        "from sumy.summarizers.text_rank import TextRankSummarizer as Summarizer\n",
        "from sumy.nlp.stemmers import Stemmer\n",
        "from sumy.utils import get_stop_words\n",
        "\n",
        "\n",
        "LANGUAGE = \"french\"\n",
        "SENTENCES_COUNT = 15\n",
        "\n",
        "\n",
        "if __name__ == \"__main__\":\n",
        "    url = \"https://fr.wikipedia.org/wiki/Napol%C3%A9on_Ier\"\n",
        "    parser = HtmlParser.from_url(url, Tokenizer(LANGUAGE))\n",
        "  \n",
        "    stemmer = Stemmer(LANGUAGE)\n",
        "\n",
        "    summarizer = Summarizer(stemmer)\n",
        "    summarizer.stop_words = get_stop_words(LANGUAGE)\n",
        "\n",
        "    for sentence in summarizer(parser.document, SENTENCES_COUNT):\n",
        "        print(sentence)"
      ],
      "execution_count": 61,
      "outputs": [
        {
          "output_type": "stream",
          "text": [
            "Titre Empereur des Français 20mars – 22juin1815 (3 mois et 2 jours) Prédécesseur Louis XVIII (roi de France)Successeur Napoléon II (prétendant) Louis XVIII (roi de France) 18mai1804 – 6avril1814 (9 ans, 10 mois et 19 jours) Couronnement 2décembre1804 , en la cathédrale Notre-Dame de Paris Prédécesseur Lui-même ( Premier consul de la République )Successeur Louis XVIII (roi de France) Roi d'Italie 17mars1805 – 11avril1814 (9 ans et 25 jours) Prédécesseur Lui-même (président de la République italienne)Successeur Victor-Emmanuel II (roi d'Italie en 1861) Protecteur de la Confédération du Rhin 12juillet1806 – 19octobre1813 (7 ans, 3 mois et 7 jours) Prédécesseur François II ( Empereur des Romains ) Successeur Confédération germaniqueMédiateur de la Confédération suisse 19février1803 – 19octobre1813 (10 ans et 8 mois) Prédécesseur République helvétique Successeur Confédération des XXII cantonsPrésident de la République italienne Napoléon Bonaparte 26janvier1802 – 17mars1805 (3 ans, 1 mois et 19 jours) Vice-président Francesco Melzi d'Eril Prédécesseur République cisalpine Successeur Lui-même (roi d'Italie) Premier consul de la République Napoléon Bonaparte 10novembre1799 – 18mai1804 (4 ans, 5 mois et 8 jours) Prédécesseur Directoire Successeur Lui-même (empereur des Français)BiographieDynastie maison Bonaparte Nom de naissance\n",
            "Napoleone Bonaparte (sur l'acte de baptême)Date de naissance 15 août1769 Lieu de naissance Ajaccio ( France )\n",
            "Date de décès 5mai1821 (à 51 ans)Lieu de décès Île Sainte-Hélène ( Royaume-Uni )\n",
            "Père Charles Bonaparte Mère Maria Letizia Ramolino Conjoint Joséphine de Beauharnais (1796-1809) Marie-Louise d'Autriche (1810-1821)Enfants Napoléon Bonaparte , prince impérial , roi de Rome Héritier\n",
            "Prince Napoléon , prince impérial Religion Catholicisme romainMonarques de France · Monarques d'Italiemodifier Napoléon I er , né le 15 août 1769 à Ajaccio et mort le 5 mai 1821 sur l' île Sainte-Hélène , est le premier empereur des Français , du 18 mai 1804 au 6 avril 1814 et du 20 mars 1815 au 22 juin 1815.\n",
            "École royale militaire de Brienne (1779-1784) Charles Bonaparte ayant fourni les preuves de noblesse de la famille, Napoléon est agréé par le ministère de la Guerre pour entrer au de Tiron , mais, à la suite de défections, il est finalement admis à l’ école royale militaire de Brienne-le-Château (aujourd’hui dans l' Aube ) [13] .\n",
            "En septembre, il passe l'examen de sortie de l'école ; l'inspecteur des Écoles, Agathon Guinement , chevalier de Keralio, le juge apte à être affecté à un régiment de la marine, mais la mère de Napoléon refuse et il est finalement intégré à un régiment d'artillerie [23] interrogé par le mathématicien Pierre-Simon de Laplace .\n",
            "Le divorce de Joséphine est alors inéluctable, d'autant que Napoléon sait que la stérilité du couple n'est pas de son fait, depuis la naissance du petit Léon , fruit d'une liaison en 1806, et de la grossesse toute récente de Marie Walewska , autre liaison initiée lors de la campagne de Pologne en 1807, venue à Vienne lors des négociations de paix (l'enfant, Alexandre Walewski , naît en mai 1810).\n",
            "Napoléon, souverain du « Grand Empire » Mariage de Napoléon et Marie-Louise (cérémonie religieuse du 2 avril 1810 tenue dans le Salon carré du Louvre), par Georges Rouget .Au début de l'année 1812, le « Grand Empire » compte 134 départements, de Hambourg à Rome et Barcelone , ainsi que les Provinces illyriennes et une population de 70 millions d’habitants (dont 30 seulement sont de la France de 1793), et compte plusieurs états vassaux (le royaume d'Italie , le royaume de Naples , le royaume d'Espagne , la Confédération du Rhin avec le duché de Varsovie , la Confédération suisse , la principauté de Lucques et Piombino , la principauté d'Erfurt , la ville libre de Dantzig et enfin Corfou , île de république des Sept-Îles encore sous contrôle français).\n",
            "La mort de Napoléon résulterait donc de la combinaison d'une hépatite chronique ancienne, d'un ulcère de l'estomac lié au stress évoluant jusqu'à la perforation, d'une dégénérescence de cet ulcère en carcinome et, cause immédiate, l'aggravation du tout par une médication aberrante ( antimoine et mercure , le coup de grâce ayant été porté par le médecin anglais Arnott qui inflige au malade une dose extravagante de 10 grains de calomel alors que la dose normale est de un ou deux grains, ce qui provoque une sévère hémorragie stomacale qui sera fatale [54] .\n",
            "La signature du Concordat en 1801 permet à Napoléon de s’assurer le soutien de beaucoup de catholiques qui étaient hésitants jusqu’alors, et les royalistes en perdent autant, l’une des raisons fondamentales de l’appui de la population à ce mouvement étant le caractère anti-catholique de la Révolution.\n",
            "En effet, avec son accent corse, Napoléon prononçait son prénom Napoillioné ; Le général Vendémiaire : surnom donné par d'autres généraux de la République en signe de mépris pour ce fait d'armes de répression intérieure de civils royalistes, après l'intervention de Bonaparte lors de l' insurrection royaliste du 13 vendémiaire an IV ; Le petit caporal : surnom donné par les soldats au soir de la bataille du pont de Lodi , en 1796.\n",
            "Ce surnom jouait sur le contraste avec le ventru John Bull , symbole de l'Anglais et de son opulence face à une France perçue comme ruinée et affamée durant la Révolution ; Le petit tondu : surnom donné par les soldats à partir du Consulat et du début de l'Empire après que Bonaparte eut fait couper ses cheveux (au retour de l’expédition d’Égypte, en 1799) et eut fait appliquer un nouveau règlement pour la coupe de cheveux des militaires (abandon des cheveux longs et des perruques au profit de la « coupe à la Titus » [ i ] ) ; Buonaparte : reprise du nom corse orthographié ainsi dans les premières années de la vie de Napoléon Bonaparte, par ses adversaires royalistes français et par les Britanniques qui ne reconnaissaient pas sa dignité impériale acquise après la rupture de la paix d'Amiens (1803) et refusant ainsi de n'utiliser que son prénom, signe de sa titulature ; L'usurpateur : surnom provenant des milieux royalistes, à partir de l'établissement de l'Empire et de la prétention de Napoléon Bonaparte d'accaparer le pouvoir souverain.\n",
            "Napoléon met en avant la proximité des religions chrétienne et musulmane lorsqu'il dépeint [31] le prophète : « Mahomet […] qui marche si près sur les traces du christianisme, et s'en éloigne si peu » et relève les différences existant à Sainte-Hélène [106] : « analysant de la manière la plus ingénieuse les deux religions de l’Orient et de l’Occident, il disait que la nôtre était toute spirituelle, et celle de Mahomet toute sensuelle ; que les châtiments dominaient chez nous : c’était l’enfer et ses supplices éternels, tandis que ce n’était que récompenses chez les musulmans : les houris aux yeux bleus, les bocages riants, les fleuves de lait ; et de là il concluait, en opposant les deux religions, que l’on pourrait dire que l’une était une menace, elle se présentait comme la religion de la crainte ; que l’autre, au contraire, était une promesse, et devenait la religion des attraits ».\n",
            "Filistine Charlotte Bonaparte (1795-1865), fille aînée de Lucien ; Dermid Leclerc (1798-1804), fils unique de Pauline ; Christine-Egypta Bonaparte (1798-1847), fille cadette de Lucien ; Achille Charles Louis Napoléon Murat (1801-1847), fils aîné de Caroline ; Zénaïde Bonaparte (1801-1854), fille aînée de Joseph ; Maria Letizia Joséphine Murat (1802-1859), fille de Caroline ; Napoléon Louis Charles Bonaparte (1802-1807), fils aîné de Louis ; Charlotte Bonaparte (1802-1839), fille cadette de Joseph ; Lucien Charles Joseph Napoléon Murat (1803-1878), fils de Caroline ; Charles-Lucien Carlo Jules Laurent Bonaparte (1803-1857), fils de Lucien ( zoologiste ) ; Napoléon Louis Bonaparte (1804-1831), fils cadet de Louis ; Lætitia Bonaparte (1804-1871), fille de Lucien ; Louise Julie Caroline Murat (1805-1889), fille de Caroline ; Élisa Napoléone Baciocchi (1806-1869), fille aînée d’Élisa ; Jeanne Bonaparte (1807-1829), fille de Lucien ; Louis-Napoléon Bonaparte (1808-1873), fils de Louis, empereur des Français (1852-1870) ; Paul Bonaparte (1809-1827), fils de Lucien ; Louis-Lucien Bonaparte (1813-1891), fils de Lucien ; Jérôme-Frédéric-Félix-Napoléon (1814-1834), fils d’Élisa ; Jérôme Napoléon Charles Bonaparte (1814-1847), fils aîné de Jérôme ; Pierre-Napoléon Bonaparte (1815-1881), fils de Lucien ; Antoine Bonaparte (1816-1877), fils de Lucien ; Marie-Alexandrine Bonaparte (1818-1874), fille de Lucien ; Mathilde-Létizia Wilhelmine Bonaparte (1820-1904), fille de Jérôme ; Napoléon Joseph Charles Paul Bonaparte (1822-1891), fils de Jérôme ; Constance Bonaparte (1823-1876), fille de Lucien.\n",
            "Cette soi-disant falsification de sa date de naissance s'explique par le fait que Napoléon a utilisé en de multiples occasions « les papiers de son frère Joseph (né en 1768) lorsqu'il avait besoin de se vieillir en vue d'obtenir quelque avantage de l'administration, ou lors de son mariage avec Joséphine ».\n",
            "Helena ) de Lupu-Pick avec Werner Krauss (France) 1934 : Napoléon Bonaparte d’ Abel Gance avec Albert Dieudonné (nouvelle version, sonore, d’après celle de 1927) (France) 1935 : Campo di maggio de Giovacchino Forzano avec Corrado Racca ( Italie ) 1941 : Napoleón de Luis César Amadori ( Argentine ) 1955 : Napoléon de Sacha Guitry avec Daniel Gélin et Raymond Pellegrin (France) 1960 : Austerlitz d’ Abel Gance avec Pierre Mondy (France) 1970 : Waterloo de Serge Bondartchouk avec Rod Steiger (R.U., Russie) 1971 : d’ Abel Gance avec Albert Dieudonné (nouvelle version d’après celle de 1927 et 1934) (TV ; France) 1985 : Adieu Bonaparte de Youssef Chahine avec Patrice Chéreau (France, Égypte ) 1989 : Napóleon d' András Sólyom avec Péter Rudolf (TV ; Hongrie) 1990 : Napoléon et l'Europe de José Fonseca e Costa , Eberhard Itzenplitz , Pierre Lary , Janusz Majewski , Krzysztof Zanussi avec Jean-François Stévenin (TV ; Pologne, Belgique, Canada, France) 1999 : Pan Tadeusz d' Andrzej Wajda avec Henryk Baranowski ( Pologne ) 2002 : Napoléon d’ Yves Simoneau avec Christian Clavier (TV ; France, Allemagne, Canada, États-Unis, Royaume-Uni) 2003 : Monsieur N. d’ Antoine de Caunes avec Philippe Torreton (France, R.U.)\n",
            "Château de Fontainebleau , ancien lieu de résidence de la cour impériale et haut lieu de décision politique de l'Empire ( concordat de Fontainebleau (1813) , premier acte d'abdication etc.) ; s'y trouve la salle du trône et la bibliothèque de travail de l'empereur.\n",
            "Précédé par\n",
            "Suivi par Premier consul de la République 1799-1804 Lui-même(empereur des Français)Lui-même(Premier consul de la République) Empereur des Français 1804-18141815 Fondation de la dynastie Napoléon I er Succession bonapartiste 1804-1821 Président de la République italienne 1802-1805 Lui-même(roi d'Italie)Lui-même(président de la République italienne) Médiateur de la Confédération suisse 1803-1813 Protecteur de la Confédération du Rhin 1806-1813 Coprince d'Andorre avec Francesco Antonio de la Dueña y Cisneros 1806-18121815 Portail République Portail de l’histoire Portail de la Révolution française Portail du Premier Empire Portail de la France au XIX e siècle Portail de la Corse Portail de la monarchie Portail de Sainte-Hélène, Ascension et Tristan da Cunha Portail de l’Armée et de l’histoire militaire françaises Portail de la Grande Armée\n"
          ],
          "name": "stdout"
        }
      ]
    },
    {
      "metadata": {
        "id": "6FulZpf04Vya",
        "colab_type": "text"
      },
      "cell_type": "markdown",
      "source": [
        "# pyTeaser"
      ]
    },
    {
      "metadata": {
        "id": "ETTQ60vw4ZUf",
        "colab_type": "code",
        "colab": {
          "base_uri": "https://localhost:8080/",
          "height": 691
        },
        "outputId": "da9b36cf-8cf4-4444-8b57-b018ec2bb6d4"
      },
      "cell_type": "code",
      "source": [
        "!pip install pyteaser \n",
        "from pyteaser import SummarizeUrl\n",
        "\n",
        "url = 'https://fr.wikipedia.org/wiki/Napol%C3%A9on_Ier'\n",
        "summaries = SummarizeUrl(url)\n",
        "print (summaries)"
      ],
      "execution_count": 67,
      "outputs": [
        {
          "output_type": "stream",
          "text": [
            "Collecting pyteaser\n",
            "  Using cached https://files.pythonhosted.org/packages/d4/7a/310592c6e7998440e56a8650446ecf3ded076431415c60f0f3b946b54462/pyteaser-2.0.tar.gz\n",
            "Requirement already satisfied: Pillow in /usr/local/lib/python3.6/dist-packages (from pyteaser) (4.0.0)\n",
            "Requirement already satisfied: lxml in /usr/local/lib/python3.6/dist-packages (from pyteaser) (4.2.6)\n",
            "Collecting cssselect (from pyteaser)\n",
            "  Using cached https://files.pythonhosted.org/packages/7b/44/25b7283e50585f0b4156960691d951b05d061abf4a714078393e51929b30/cssselect-1.0.3-py2.py3-none-any.whl\n",
            "Requirement already satisfied: jieba in /usr/local/lib/python3.6/dist-packages (from pyteaser) (0.39)\n",
            "Collecting beautifulsoup (from pyteaser)\n",
            "  Using cached https://files.pythonhosted.org/packages/1e/ee/295988deca1a5a7accd783d0dfe14524867e31abb05b6c0eeceee49c759d/BeautifulSoup-3.2.1.tar.gz\n",
            "    Complete output from command python setup.py egg_info:\n",
            "    Traceback (most recent call last):\n",
            "      File \"<string>\", line 1, in <module>\n",
            "      File \"/tmp/pip-install-5df9hvdj/beautifulsoup/setup.py\", line 22\n",
            "        print \"Unit tests have failed!\"\n",
            "                                      ^\n",
            "    SyntaxError: Missing parentheses in call to 'print'. Did you mean print(\"Unit tests have failed!\")?\n",
            "    \n",
            "    ----------------------------------------\n",
            "\u001b[31mCommand \"python setup.py egg_info\" failed with error code 1 in /tmp/pip-install-5df9hvdj/beautifulsoup/\u001b[0m\n"
          ],
          "name": "stdout"
        },
        {
          "output_type": "error",
          "ename": "ModuleNotFoundError",
          "evalue": "ignored",
          "traceback": [
            "\u001b[0;31m---------------------------------------------------------------------------\u001b[0m",
            "\u001b[0;31mModuleNotFoundError\u001b[0m                       Traceback (most recent call last)",
            "\u001b[0;32m<ipython-input-67-9e1a98d1cbdf>\u001b[0m in \u001b[0;36m<module>\u001b[0;34m()\u001b[0m\n\u001b[1;32m      1\u001b[0m \u001b[0mget_ipython\u001b[0m\u001b[0;34m(\u001b[0m\u001b[0;34m)\u001b[0m\u001b[0;34m.\u001b[0m\u001b[0msystem\u001b[0m\u001b[0;34m(\u001b[0m\u001b[0;34m'pip install pyteaser '\u001b[0m\u001b[0;34m)\u001b[0m\u001b[0;34m\u001b[0m\u001b[0;34m\u001b[0m\u001b[0m\n\u001b[0;32m----> 2\u001b[0;31m \u001b[0;32mfrom\u001b[0m \u001b[0mpyteaser\u001b[0m \u001b[0;32mimport\u001b[0m \u001b[0mSummarizeUrl\u001b[0m\u001b[0;34m\u001b[0m\u001b[0;34m\u001b[0m\u001b[0m\n\u001b[0m\u001b[1;32m      3\u001b[0m \u001b[0;34m\u001b[0m\u001b[0m\n\u001b[1;32m      4\u001b[0m \u001b[0murl\u001b[0m \u001b[0;34m=\u001b[0m \u001b[0;34m'https://fr.wikipedia.org/wiki/Napol%C3%A9on_Ier'\u001b[0m\u001b[0;34m\u001b[0m\u001b[0;34m\u001b[0m\u001b[0m\n\u001b[1;32m      5\u001b[0m \u001b[0msummaries\u001b[0m \u001b[0;34m=\u001b[0m \u001b[0mSummarizeUrl\u001b[0m\u001b[0;34m(\u001b[0m\u001b[0murl\u001b[0m\u001b[0;34m)\u001b[0m\u001b[0;34m\u001b[0m\u001b[0;34m\u001b[0m\u001b[0m\n",
            "\u001b[0;31mModuleNotFoundError\u001b[0m: No module named 'pyteaser'",
            "",
            "\u001b[0;31m---------------------------------------------------------------------------\u001b[0;32m\nNOTE: If your import is failing due to a missing package, you can\nmanually install dependencies using either !pip or !apt.\n\nTo view examples of installing some common dependencies, click the\n\"Open Examples\" button below.\n\u001b[0;31m---------------------------------------------------------------------------\u001b[0m\n"
          ]
        }
      ]
    }
  ]
}